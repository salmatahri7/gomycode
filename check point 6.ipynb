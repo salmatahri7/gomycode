{
 "cells": [
  {
   "cell_type": "code",
   "execution_count": 1,
   "id": "17cc8e65",
   "metadata": {},
   "outputs": [
    {
     "name": "stdout",
     "output_type": "stream",
     "text": [
      "the array is [1 2 3 4 5]\n",
      "the list is [1, 2, 3, 4, 5]\n"
     ]
    }
   ],
   "source": [
    "import numpy as np\n",
    "array=np.array([1,2,3,4,5])\n",
    "print(\"the array is\", array)\n",
    "list=array.tolist()\n",
    "print(\"the list is\", list)\n",
    "\n",
    "\n"
   ]
  },
  {
   "cell_type": "code",
   "execution_count": 2,
   "id": "bb39ebc4",
   "metadata": {},
   "outputs": [
    {
     "name": "stdout",
     "output_type": "stream",
     "text": [
      "16\n"
     ]
    }
   ],
   "source": [
    "array1=([9,8,2])\n",
    "array2=([6,3,7])\n",
    "array3=([4,1,5])\n",
    "x=array1[1]\n",
    "y=array2[1]\n",
    "z=array3[2]\n",
    "a=x+y+z\n",
    "print(a)"
   ]
  },
  {
   "cell_type": "code",
   "execution_count": 7,
   "id": "2504a419",
   "metadata": {},
   "outputs": [
    {
     "name": "stdout",
     "output_type": "stream",
     "text": [
      "Original array: \n",
      "[[ 0 10 20]\n",
      " [20 30 40]]\n",
      "Values bigger than 10 = [20 20 30 40]\n"
     ]
    }
   ],
   "source": [
    "#question3\n",
    "import numpy as np\n",
    "a = np.array([[0, 10, 20], [20, 30, 40]])\n",
    "print(\"Original array: \")\n",
    "print(a)\n",
    "y=10\n",
    "print(\"Values bigger than 10 =\", a[a>y])\n",
    "\n",
    "\n",
    "\n",
    "\n"
   ]
  },
  {
   "cell_type": "code",
   "execution_count": 6,
   "id": "0831382c",
   "metadata": {},
   "outputs": [
    {
     "name": "stdout",
     "output_type": "stream",
     "text": [
      "[[ 7.4]\n",
      " [15.8]]\n"
     ]
    }
   ],
   "source": [
    "#question4\n",
    "import numpy as np\n",
    "a=np.array([[3.7],[7.9]],dtype=np.float64)\n",
    "b=np.array([[3.7],[7.9]],dtype=np.float64)\n",
    "z=a+b\n",
    "print(z)\n",
    "\n",
    "\n"
   ]
  },
  {
   "cell_type": "code",
   "execution_count": 5,
   "id": "636f1bf5",
   "metadata": {},
   "outputs": [
    {
     "name": "stdout",
     "output_type": "stream",
     "text": [
      "[[-0.09608474  0.56560934 -0.0291246  -0.18746713  0.24002617 -0.04493287\n",
      "  -0.29464035 -0.2494451  -0.29361325  0.38967254]\n",
      " [ 0.2283568  -0.02796536  0.28263409  0.30500066 -0.36066249  0.26724359\n",
      "   0.23236033 -0.27273028 -0.49672623 -0.1575111 ]\n",
      " [ 0.33536029 -0.12850717  0.23144271 -0.37643403 -0.28857979 -0.01638236\n",
      "   0.27533358 -0.25487063 -0.10847876  0.33111616]\n",
      " [-0.52694916  0.03332749  0.19707994  0.10779178 -0.51227201  0.06736093\n",
      "  -0.15625681  0.35245328  0.23962036  0.1978442 ]\n",
      " [-0.32576611 -0.03496965  0.50431611  0.45132968 -0.25946732 -0.25733783\n",
      "   0.08822624  0.14475707  0.12492322 -0.4360114 ]]\n"
     ]
    }
   ],
   "source": [
    "#question5\n",
    "import numpy as np\n",
    "X = np.random.rand(5, 10)\n",
    "Y=X-X.mean(axis=1, keepdims=True)\n",
    "print(Y)"
   ]
  },
  {
   "cell_type": "code",
   "execution_count": null,
   "id": "fc7cd651",
   "metadata": {},
   "outputs": [],
   "source": []
  },
  {
   "cell_type": "code",
   "execution_count": null,
   "id": "6f0f2d68",
   "metadata": {},
   "outputs": [],
   "source": []
  }
 ],
 "metadata": {
  "kernelspec": {
   "display_name": "Python 3",
   "language": "python",
   "name": "python3"
  },
  "language_info": {
   "codemirror_mode": {
    "name": "ipython",
    "version": 3
   },
   "file_extension": ".py",
   "mimetype": "text/x-python",
   "name": "python",
   "nbconvert_exporter": "python",
   "pygments_lexer": "ipython3",
   "version": "3.8.8"
  }
 },
 "nbformat": 4,
 "nbformat_minor": 5
}
